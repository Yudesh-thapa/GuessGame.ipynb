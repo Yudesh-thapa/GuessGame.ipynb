{
  "nbformat": 4,
  "nbformat_minor": 0,
  "metadata": {
    "colab": {
      "provenance": [],
      "authorship_tag": "ABX9TyNN9i+8Oq5vwcbQTfXxNTaS",
      "include_colab_link": true
    },
    "kernelspec": {
      "name": "python3",
      "display_name": "Python 3"
    },
    "language_info": {
      "name": "python"
    }
  },
  "cells": [
    {
      "cell_type": "markdown",
      "metadata": {
        "id": "view-in-github",
        "colab_type": "text"
      },
      "source": [
        "<a href=\"https://colab.research.google.com/github/Yudesh-thapa/GuessGame.ipynb/blob/main/GuessGame.ipynb\" target=\"_parent\"><img src=\"https://colab.research.google.com/assets/colab-badge.svg\" alt=\"Open In Colab\"/></a>"
      ]
    },
    {
      "cell_type": "code",
      "execution_count": null,
      "metadata": {
        "id": "teU4H434u-F0"
      },
      "outputs": [],
      "source": [
        "#GuessGame\n",
        "\n",
        "# Define the Question class\n",
        "class Question:\n",
        "    def __init__(self, q_text, q_answer):\n",
        "        self.text = q_text\n",
        "        self.answer = q_answer\n",
        "\n",
        "# Define the QuizBrain class\n",
        "class QuizBrain:\n",
        "    def __init__(self, q_list):\n",
        "        self.question_number = 0\n",
        "        self.score = 0\n",
        "        self.question_list = q_list\n",
        "\n",
        "    def still_has_questions(self):\n",
        "        return self.question_number < len(self.question_list)\n",
        "\n",
        "    def next_question(self):\n",
        "        current_question = self.question_list[self.question_number]\n",
        "        self.question_number += 1\n",
        "        user_answer = input(f\"Q.{self.question_number}: {current_question.text} (True/False): \")\n",
        "        self.check_answer(user_answer, current_question.answer)\n",
        "\n",
        "    def check_answer(self, user_answer, correct_answer):\n",
        "        if user_answer.lower() == correct_answer.lower():\n",
        "            self.score += 1\n",
        "            print(\"You got it right!\")\n",
        "        else:\n",
        "            print(\"That's wrong.\")\n",
        "\n",
        "        print(f\"The correct answer was: {correct_answer}.\")\n",
        "        print(f\"Your current score is: {self.score}/{self.question_number}\\n\")\n",
        "\n",
        "# Sample question data\n",
        "question_data = [\n",
        "    {\"category\": \"Science\", \"type\": \"boolean\", \"difficulty\": \"easy\",\n",
        "     \"question\": \"The chemical symbol for water is H2O (True/False)?\", \"correct_answer\": \"true\"},\n",
        "    {\"category\": \"History\", \"type\": \"boolean\", \"difficulty\": \"easy\",\n",
        "     \"question\": \"India declared independence in 1947 (True/False)?\", \"correct_answer\": \"true\"},\n",
        "    {\"category\": \"Science\", \"type\": \"boolean\", \"difficulty\": \"hard\",\n",
        "     \"question\": \"The chemical formula for table salt is NaCl (True/False)?\", \"correct_answer\": \"true\"},\n",
        "    {\"category\": \"History\", \"type\": \"boolean\", \"difficulty\": \"hard\",\n",
        "     \"question\": \"Marie Curie was the first woman to win a Nobel Prize (True/False)?\", \"correct_answer\": \"true\"}\n",
        "]\n",
        "\n",
        "# Create question bank\n",
        "question_bank = []\n",
        "for question in question_data:\n",
        "    question_text = question[\"question\"]\n",
        "    question_answer = question[\"correct_answer\"]\n",
        "    new_question = Question(question_text, question_answer)\n",
        "    question_bank.append(new_question)\n",
        "\n",
        "# Initialize QuizBrain\n",
        "quiz = QuizBrain(question_bank)\n",
        "\n",
        "# Run the quiz\n",
        "while quiz.still_has_questions():\n",
        "    quiz.next_question()\n",
        "\n",
        "print(\"You have completed the quiz\")\n",
        "print(f\"Your final score was: {quiz.score}/{quiz.question_number}\")\n"
      ]
    }
  ]
}